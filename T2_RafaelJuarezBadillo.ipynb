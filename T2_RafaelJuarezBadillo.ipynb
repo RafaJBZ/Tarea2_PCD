{
 "cells": [
  {
   "cell_type": "markdown",
   "source": [
    "# Tarea 2: Trabajando con Github\n",
    "\n",
    "## [A Gentle Introduction to MLOps](https://towardsdatascience.com/a-gentle-introduction-to-mlops-7d64a3e890ff)\n",
    "The article discusses MLOps, short for Machine Learning Operations, and describes how machine learning models can be deployed to function efficiently in real-world scenarios. The need for MLOps arises due to challenges like handling large datasets, keeping track of model changes, and adapting to real-world changes.\n",
    "\n",
    "The article compares MLOps to DevOps and outlines the stages of deploying machine learning projects. It also highlights the infrastructure required for running machine learning models in production.\n",
    "\n",
    "An example of classifying pumpkins is used to explain the manual deployment process, followed by the introduction of automated processes. The article concludes by discussing an advanced level of MLOps, which involves continuous monitoring and updating of models based on performance and new data.\n",
    "\n",
    "The article recommends exploring tools like MLFlow, Seldon Core, Metaflow, and Kubeflow Pipelines. Overall, it provides an accessible introduction to MLOps with practical tips for effectively deploying machine learning models."
   ],
   "metadata": {
    "collapsed": false
   },
   "id": "90d424dec36fb94"
  }
 ],
 "metadata": {
  "kernelspec": {
   "display_name": "Python 3",
   "language": "python",
   "name": "python3"
  },
  "language_info": {
   "codemirror_mode": {
    "name": "ipython",
    "version": 2
   },
   "file_extension": ".py",
   "mimetype": "text/x-python",
   "name": "python",
   "nbconvert_exporter": "python",
   "pygments_lexer": "ipython2",
   "version": "2.7.6"
  }
 },
 "nbformat": 4,
 "nbformat_minor": 5
}
